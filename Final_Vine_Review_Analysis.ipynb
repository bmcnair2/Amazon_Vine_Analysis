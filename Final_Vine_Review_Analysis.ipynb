{
 "cells": [
  {
   "cell_type": "code",
   "execution_count": null,
   "id": "712bf1c0",
   "metadata": {},
   "outputs": [],
   "source": [
    "# Deliverable 2: Determine Bias of Vine Reviews\n",
    "import os\n",
    "# Find the latest version of spark 2.0  from http://www-us.apache.org/dist/spark/ and enter as the spark version\n",
    "# For example:\n",
    "# spark_version = 'spark-3.0.0'\n",
    "spark_version = 'spark-3.0.1'\n",
    "os.environ['SPARK_VERSION']=spark_version\n",
    "\n",
    "# Install Spark and Java\n",
    "!apt-get update\n",
    "!apt-get install openjdk-11-jdk-headless -qq > /dev/null\n",
    "!wget -q http://www-us.apache.org/dist/spark/\n",
    "SPARK_VERSION-bin-hadoop2.7.tgz\n",
    "!tar xf $SPARK_VERSION-bin-hadoop2.7.tgz\n",
    "!pip install -q findspark\n",
    "\n",
    "# Set Environment Variables\n",
    "import os\n",
    "os.environ[\"JAVA_HOME\"] = \"/usr/lib/jvm/java-11-openjdk-amd64\"\n",
    "os.environ[\"SPARK_HOME\"] = f\"/content/{spark_version}-bin-hadoop2.7\"\n",
    "\n",
    "# Start a SparkSession\n",
    "import findspark\n",
    "findspark.init()"
   ]
  },
  {
   "cell_type": "code",
   "execution_count": null,
   "id": "428a2a38",
   "metadata": {},
   "outputs": [],
   "source": [
    "from pyspark.sql import SparkSession\n",
    "spark = SparkSession.builder.appName(\"BigData-Challenge\").config(\"spark.driver.extraClassPath\",\"/content/postgresql-42.2.16.jar\").getOrCreate()"
   ]
  },
  {
   "cell_type": "code",
   "execution_count": null,
   "id": "aa1efb4e",
   "metadata": {},
   "outputs": [],
   "source": [
    "from pyspark import SparkFiles\n",
    "url = \"https://s3.amazonaws.com/amazon-reviews-pds/tsv/amazon_reviews_us_Digital_Video_Games_v1_00.tsv.gz\"\n",
    "spark.sparkContext.addFile(url)\n",
    "df = spark.read.option(\"encoding\", \"UTF-8\").csv(SparkFiles.get(\"amazon_reviews_us_Digital_Video_Games_v1_00.tsv.gz\"), sep=\"\\t\", header=True, inferSchema=True)\n",
    "df.show()"
   ]
  },
  {
   "cell_type": "code",
   "execution_count": null,
   "id": "bb3f2e83",
   "metadata": {},
   "outputs": [],
   "source": [
    "df.count()"
   ]
  },
  {
   "cell_type": "code",
   "execution_count": null,
   "id": "8eebcf83",
   "metadata": {},
   "outputs": [],
   "source": [
    "# Load in a sql function to use columns\n",
    "from pyspark.sql.functions import col\n",
    "\n",
    "# Filter for only columns with total_votes equal or greater than 20\n",
    "total_votes_20plus_df = df.filter(col(\"total_votes\") >= 20)\n",
    "total_votes_20plus_df.show(5)"
   ]
  },
  {
   "cell_type": "code",
   "execution_count": null,
   "id": "7aaac380",
   "metadata": {},
   "outputs": [],
   "source": [
    "total_votes_20plus_df.count()"
   ]
  },
  {
   "cell_type": "code",
   "execution_count": null,
   "id": "d8cab9a6",
   "metadata": {},
   "outputs": [],
   "source": [
    "# Filter the data for helpful_votes/total_votes is >= 50%\n",
    "helpful_votes_50plus_df = total_votes_20plus_df.filter(col(\"helpful_votes\")/col(\"total_votes\") >= .50)\n",
    "helpful_votes_50plus_df.show(5)"
   ]
  },
  {
   "cell_type": "code",
   "execution_count": null,
   "id": "efc2e274",
   "metadata": {},
   "outputs": [],
   "source": [
    "helpful_votes_50plus_df.count()"
   ]
  },
  {
   "cell_type": "code",
   "execution_count": null,
   "id": "d108a97e",
   "metadata": {},
   "outputs": [],
   "source": [
    "# Filter for data where a review was written as part of the Vine program\n",
    "paid_vine_df = helpful_votes_50plus_df.filter(col(\"vine\") == 'Y')\n",
    "paid_vine_df.show()"
   ]
  },
  {
   "cell_type": "code",
   "execution_count": null,
   "id": "e077bf4f",
   "metadata": {},
   "outputs": [],
   "source": [
    "paid_vine_df.count()"
   ]
  },
  {
   "cell_type": "code",
   "execution_count": null,
   "id": "f24bc4c3",
   "metadata": {},
   "outputs": [],
   "source": [
    "# Filter for data where a review was not part of the Vine program\n",
    "unpaid_vine_df = helpful_votes_50plus_df.filter(col(\"vine\") == 'N')\n",
    "unpaid_vine_df.show(5)"
   ]
  },
  {
   "cell_type": "code",
   "execution_count": null,
   "id": "34f2c4e3",
   "metadata": {},
   "outputs": [],
   "source": [
    "# Finding total # of review paid\n",
    "paid_vine_df.count()"
   ]
  },
  {
   "cell_type": "code",
   "execution_count": null,
   "id": "3a074ea1",
   "metadata": {},
   "outputs": [],
   "source": [
    "# Finding total # of 5-star reviews paid\n",
    "paid_star_rating_df = paid_vine_df.filter(col(\"star_rating\") == 5)\n",
    "paid_star_rating_df.count()"
   ]
  },
  {
   "cell_type": "code",
   "execution_count": null,
   "id": "c2fa84bd",
   "metadata": {},
   "outputs": [],
   "source": [
    "# Finding percentage of 5-star reviews paid\n",
    "# percent_paid = (paid_star_rating_df.count()/paid_vine_df.count())*100\n",
    "# print(\"Percentage of 5-star reviews for paid Vine program was: %f\" % percent_paid + \"%\")\n",
    "\n",
    "#### Unfortantly, my dataset did not have Y's in the vine column.  \n",
    "#### I pulled the csv from pgAdmin to verify it.  The csv has been uploaded to GitHub.\n",
    "#### This code will result in a divsion by zero error.  Basically, there are 0% paid Vine 5-star reviews (or any other rating level.)"
   ]
  },
  {
   "cell_type": "code",
   "execution_count": null,
   "id": "238f8195",
   "metadata": {},
   "outputs": [],
   "source": [
    "# Finding total # of review unpaid\n",
    "unpaid_vine_df.count()"
   ]
  },
  {
   "cell_type": "code",
   "execution_count": null,
   "id": "88ccab3e",
   "metadata": {},
   "outputs": [],
   "source": [
    "# Finding total # of 5-star reviews unpaid\n",
    "unpaid_star_rating_df = unpaid_vine_df.filter(col(\"star_rating\") == 5)\n",
    "unpaid_star_rating_df.count()"
   ]
  },
  {
   "cell_type": "code",
   "execution_count": null,
   "id": "3489d103",
   "metadata": {},
   "outputs": [],
   "source": [
    "# Finding percentage of 5-star reviews unpaid\n",
    "percent_unpaid = (unpaid_star_rating_df.count()/unpaid_vine_df.count())*100\n",
    "print(\"Percentage of 5-star reviews for unpaid Vine program was: %f\" % percent_unpaid + \"%\")"
   ]
  }
 ],
 "metadata": {
  "kernelspec": {
   "display_name": "Python 3 (ipykernel)",
   "language": "python",
   "name": "python3"
  },
  "language_info": {
   "codemirror_mode": {
    "name": "ipython",
    "version": 3
   },
   "file_extension": ".py",
   "mimetype": "text/x-python",
   "name": "python",
   "nbconvert_exporter": "python",
   "pygments_lexer": "ipython3",
   "version": "3.9.7"
  }
 },
 "nbformat": 4,
 "nbformat_minor": 5
}
